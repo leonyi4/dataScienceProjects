{
 "cells": [
  {
   "cell_type": "code",
   "execution_count": 1,
   "id": "9ef6bc22",
   "metadata": {},
   "outputs": [],
   "source": [
    "import pandas as pd\n",
    "import numpy as np\n",
    "import matplotlib.pyplot as plt\n",
    "import tensorflow as tf\n",
    "import seaborn as sns\n",
    "import random\n",
    "import math"
   ]
  },
  {
   "cell_type": "code",
   "execution_count": 2,
   "id": "736cd06a",
   "metadata": {},
   "outputs": [],
   "source": [
    "data = pd.read_csv('fitzpatrick17k.csv')"
   ]
  },
  {
   "cell_type": "code",
   "execution_count": 3,
   "id": "342290b7",
   "metadata": {},
   "outputs": [
    {
     "data": {
      "text/html": [
       "<div>\n",
       "<style scoped>\n",
       "    .dataframe tbody tr th:only-of-type {\n",
       "        vertical-align: middle;\n",
       "    }\n",
       "\n",
       "    .dataframe tbody tr th {\n",
       "        vertical-align: top;\n",
       "    }\n",
       "\n",
       "    .dataframe thead th {\n",
       "        text-align: right;\n",
       "    }\n",
       "</style>\n",
       "<table border=\"1\" class=\"dataframe\">\n",
       "  <thead>\n",
       "    <tr style=\"text-align: right;\">\n",
       "      <th></th>\n",
       "      <th>md5hash</th>\n",
       "      <th>fitzpatrick_scale</th>\n",
       "      <th>fitzpatrick_centaur</th>\n",
       "      <th>label</th>\n",
       "      <th>nine_partition_label</th>\n",
       "      <th>three_partition_label</th>\n",
       "      <th>qc</th>\n",
       "      <th>url</th>\n",
       "      <th>url_alphanum</th>\n",
       "    </tr>\n",
       "  </thead>\n",
       "  <tbody>\n",
       "    <tr>\n",
       "      <th>0</th>\n",
       "      <td>000491af8dd4d739de520e8a68be7134</td>\n",
       "      <td>2</td>\n",
       "      <td>1</td>\n",
       "      <td>disseminated actinic porokeratosis</td>\n",
       "      <td>benign epidermal</td>\n",
       "      <td>benign</td>\n",
       "      <td>NaN</td>\n",
       "      <td>https://www.dermaamin.com/site/images/clinical...</td>\n",
       "      <td>httpwwwdermaamincomsiteimagesclinicalpicddisse...</td>\n",
       "    </tr>\n",
       "    <tr>\n",
       "      <th>1</th>\n",
       "      <td>0009d89a58dac26bb3c113744b7b4196</td>\n",
       "      <td>3</td>\n",
       "      <td>2</td>\n",
       "      <td>squamous cell carcinoma</td>\n",
       "      <td>malignant epidermal</td>\n",
       "      <td>malignant</td>\n",
       "      <td>NaN</td>\n",
       "      <td>https://www.dermaamin.com/site/images/clinical...</td>\n",
       "      <td>httpwwwdermaamincomsiteimagesclinicalpicbbowen...</td>\n",
       "    </tr>\n",
       "    <tr>\n",
       "      <th>2</th>\n",
       "      <td>000b6317b3be6d504e212a50e4d5667f</td>\n",
       "      <td>3</td>\n",
       "      <td>1</td>\n",
       "      <td>dermatofibroma</td>\n",
       "      <td>benign dermal</td>\n",
       "      <td>benign</td>\n",
       "      <td>NaN</td>\n",
       "      <td>https://www.dermaamin.com/site/images/clinical...</td>\n",
       "      <td>httpwwwdermaamincomsiteimagesclinicalpicdderma...</td>\n",
       "    </tr>\n",
       "    <tr>\n",
       "      <th>3</th>\n",
       "      <td>000e8dd5ee75dd6668e978e7a4e6fe54</td>\n",
       "      <td>5</td>\n",
       "      <td>5</td>\n",
       "      <td>folliculitis</td>\n",
       "      <td>inflammatory</td>\n",
       "      <td>non-neoplastic</td>\n",
       "      <td>NaN</td>\n",
       "      <td>http://atlasdermatologico.com.br/img?imageId=6185</td>\n",
       "      <td>httpwwwatlasdermatologicocombrimgimageId6185.jpg</td>\n",
       "    </tr>\n",
       "    <tr>\n",
       "      <th>4</th>\n",
       "      <td>0012821d6f11b96cf33f2c2ee5c68d1f</td>\n",
       "      <td>3</td>\n",
       "      <td>2</td>\n",
       "      <td>syringoma</td>\n",
       "      <td>benign dermal</td>\n",
       "      <td>benign</td>\n",
       "      <td>NaN</td>\n",
       "      <td>https://www.dermaamin.com/site/images/clinical...</td>\n",
       "      <td>httpwwwdermaamincomsiteimagesclinicalpicssyrin...</td>\n",
       "    </tr>\n",
       "  </tbody>\n",
       "</table>\n",
       "</div>"
      ],
      "text/plain": [
       "                            md5hash  fitzpatrick_scale  fitzpatrick_centaur  \\\n",
       "0  000491af8dd4d739de520e8a68be7134                  2                    1   \n",
       "1  0009d89a58dac26bb3c113744b7b4196                  3                    2   \n",
       "2  000b6317b3be6d504e212a50e4d5667f                  3                    1   \n",
       "3  000e8dd5ee75dd6668e978e7a4e6fe54                  5                    5   \n",
       "4  0012821d6f11b96cf33f2c2ee5c68d1f                  3                    2   \n",
       "\n",
       "                                label nine_partition_label  \\\n",
       "0  disseminated actinic porokeratosis     benign epidermal   \n",
       "1             squamous cell carcinoma  malignant epidermal   \n",
       "2                      dermatofibroma        benign dermal   \n",
       "3                        folliculitis         inflammatory   \n",
       "4                           syringoma        benign dermal   \n",
       "\n",
       "  three_partition_label   qc  \\\n",
       "0                benign  NaN   \n",
       "1             malignant  NaN   \n",
       "2                benign  NaN   \n",
       "3        non-neoplastic  NaN   \n",
       "4                benign  NaN   \n",
       "\n",
       "                                                 url  \\\n",
       "0  https://www.dermaamin.com/site/images/clinical...   \n",
       "1  https://www.dermaamin.com/site/images/clinical...   \n",
       "2  https://www.dermaamin.com/site/images/clinical...   \n",
       "3  http://atlasdermatologico.com.br/img?imageId=6185   \n",
       "4  https://www.dermaamin.com/site/images/clinical...   \n",
       "\n",
       "                                        url_alphanum  \n",
       "0  httpwwwdermaamincomsiteimagesclinicalpicddisse...  \n",
       "1  httpwwwdermaamincomsiteimagesclinicalpicbbowen...  \n",
       "2  httpwwwdermaamincomsiteimagesclinicalpicdderma...  \n",
       "3   httpwwwatlasdermatologicocombrimgimageId6185.jpg  \n",
       "4  httpwwwdermaamincomsiteimagesclinicalpicssyrin...  "
      ]
     },
     "execution_count": 3,
     "metadata": {},
     "output_type": "execute_result"
    }
   ],
   "source": [
    "data.head()"
   ]
  },
  {
   "cell_type": "code",
   "execution_count": 4,
   "id": "563e3142",
   "metadata": {},
   "outputs": [
    {
     "data": {
      "text/html": [
       "<div>\n",
       "<style scoped>\n",
       "    .dataframe tbody tr th:only-of-type {\n",
       "        vertical-align: middle;\n",
       "    }\n",
       "\n",
       "    .dataframe tbody tr th {\n",
       "        vertical-align: top;\n",
       "    }\n",
       "\n",
       "    .dataframe thead th {\n",
       "        text-align: right;\n",
       "    }\n",
       "</style>\n",
       "<table border=\"1\" class=\"dataframe\">\n",
       "  <thead>\n",
       "    <tr style=\"text-align: right;\">\n",
       "      <th></th>\n",
       "      <th>md5hash</th>\n",
       "      <th>fitzpatrick_scale</th>\n",
       "      <th>fitzpatrick_centaur</th>\n",
       "      <th>label</th>\n",
       "      <th>nine_partition_label</th>\n",
       "      <th>three_partition_label</th>\n",
       "      <th>qc</th>\n",
       "      <th>url</th>\n",
       "      <th>url_alphanum</th>\n",
       "    </tr>\n",
       "  </thead>\n",
       "  <tbody>\n",
       "    <tr>\n",
       "      <th>0</th>\n",
       "      <td>000491af8dd4d739de520e8a68be7134</td>\n",
       "      <td>2</td>\n",
       "      <td>1</td>\n",
       "      <td>disseminated actinic porokeratosis</td>\n",
       "      <td>benign epidermal</td>\n",
       "      <td>benign</td>\n",
       "      <td>NaN</td>\n",
       "      <td>https://www.dermaamin.com/site/images/clinical...</td>\n",
       "      <td>httpwwwdermaamincomsiteimagesclinicalpicddisse...</td>\n",
       "    </tr>\n",
       "    <tr>\n",
       "      <th>1</th>\n",
       "      <td>0009d89a58dac26bb3c113744b7b4196</td>\n",
       "      <td>3</td>\n",
       "      <td>2</td>\n",
       "      <td>squamous cell carcinoma</td>\n",
       "      <td>malignant epidermal</td>\n",
       "      <td>malignant</td>\n",
       "      <td>NaN</td>\n",
       "      <td>https://www.dermaamin.com/site/images/clinical...</td>\n",
       "      <td>httpwwwdermaamincomsiteimagesclinicalpicbbowen...</td>\n",
       "    </tr>\n",
       "    <tr>\n",
       "      <th>2</th>\n",
       "      <td>000b6317b3be6d504e212a50e4d5667f</td>\n",
       "      <td>3</td>\n",
       "      <td>1</td>\n",
       "      <td>dermatofibroma</td>\n",
       "      <td>benign dermal</td>\n",
       "      <td>benign</td>\n",
       "      <td>NaN</td>\n",
       "      <td>https://www.dermaamin.com/site/images/clinical...</td>\n",
       "      <td>httpwwwdermaamincomsiteimagesclinicalpicdderma...</td>\n",
       "    </tr>\n",
       "    <tr>\n",
       "      <th>3</th>\n",
       "      <td>000e8dd5ee75dd6668e978e7a4e6fe54</td>\n",
       "      <td>5</td>\n",
       "      <td>5</td>\n",
       "      <td>folliculitis</td>\n",
       "      <td>inflammatory</td>\n",
       "      <td>non-neoplastic</td>\n",
       "      <td>NaN</td>\n",
       "      <td>http://atlasdermatologico.com.br/img?imageId=6185</td>\n",
       "      <td>httpwwwatlasdermatologicocombrimgimageId6185.jpg</td>\n",
       "    </tr>\n",
       "    <tr>\n",
       "      <th>4</th>\n",
       "      <td>0012821d6f11b96cf33f2c2ee5c68d1f</td>\n",
       "      <td>3</td>\n",
       "      <td>2</td>\n",
       "      <td>syringoma</td>\n",
       "      <td>benign dermal</td>\n",
       "      <td>benign</td>\n",
       "      <td>NaN</td>\n",
       "      <td>https://www.dermaamin.com/site/images/clinical...</td>\n",
       "      <td>httpwwwdermaamincomsiteimagesclinicalpicssyrin...</td>\n",
       "    </tr>\n",
       "    <tr>\n",
       "      <th>...</th>\n",
       "      <td>...</td>\n",
       "      <td>...</td>\n",
       "      <td>...</td>\n",
       "      <td>...</td>\n",
       "      <td>...</td>\n",
       "      <td>...</td>\n",
       "      <td>...</td>\n",
       "      <td>...</td>\n",
       "      <td>...</td>\n",
       "    </tr>\n",
       "    <tr>\n",
       "      <th>16572</th>\n",
       "      <td>ffece33de2058fcc5027d70e699391bc</td>\n",
       "      <td>2</td>\n",
       "      <td>1</td>\n",
       "      <td>urticaria</td>\n",
       "      <td>inflammatory</td>\n",
       "      <td>non-neoplastic</td>\n",
       "      <td>NaN</td>\n",
       "      <td>https://www.dermaamin.com/site/images/clinical...</td>\n",
       "      <td>httpwwwdermaamincomsiteimagesclinicalpicppapul...</td>\n",
       "    </tr>\n",
       "    <tr>\n",
       "      <th>16573</th>\n",
       "      <td>fff56febadeacf46b326b2543da5cafa</td>\n",
       "      <td>4</td>\n",
       "      <td>4</td>\n",
       "      <td>photodermatoses</td>\n",
       "      <td>inflammatory</td>\n",
       "      <td>non-neoplastic</td>\n",
       "      <td>NaN</td>\n",
       "      <td>http://atlasdermatologico.com.br/img?imageId=5435</td>\n",
       "      <td>httpwwwatlasdermatologicocombrimgimageId5435.jpg</td>\n",
       "    </tr>\n",
       "    <tr>\n",
       "      <th>16574</th>\n",
       "      <td>fff739b6e0d5e78da4576a0fd9943bdf</td>\n",
       "      <td>1</td>\n",
       "      <td>1</td>\n",
       "      <td>photodermatoses</td>\n",
       "      <td>inflammatory</td>\n",
       "      <td>non-neoplastic</td>\n",
       "      <td>NaN</td>\n",
       "      <td>https://www.dermaamin.com/site/images/clinical...</td>\n",
       "      <td>httpwwwdermaamincomsiteimagesclinicalpicppolym...</td>\n",
       "    </tr>\n",
       "    <tr>\n",
       "      <th>16575</th>\n",
       "      <td>fffce1f2b2f2dc9fd0b96d9099629d93</td>\n",
       "      <td>3</td>\n",
       "      <td>4</td>\n",
       "      <td>fixed eruptions</td>\n",
       "      <td>inflammatory</td>\n",
       "      <td>non-neoplastic</td>\n",
       "      <td>NaN</td>\n",
       "      <td>http://atlasdermatologico.com.br/img?imageId=2099</td>\n",
       "      <td>httpwwwatlasdermatologicocombrimgimageId2099.jpg</td>\n",
       "    </tr>\n",
       "    <tr>\n",
       "      <th>16576</th>\n",
       "      <td>ffffdecd2ded614ecd1f27a3fe919674</td>\n",
       "      <td>4</td>\n",
       "      <td>-1</td>\n",
       "      <td>lymphangioma</td>\n",
       "      <td>benign dermal</td>\n",
       "      <td>benign</td>\n",
       "      <td>NaN</td>\n",
       "      <td>http://atlasdermatologico.com.br/img?imageId=4150</td>\n",
       "      <td>httpwwwatlasdermatologicocombrimgimageId4150.jpg</td>\n",
       "    </tr>\n",
       "  </tbody>\n",
       "</table>\n",
       "<p>16577 rows × 9 columns</p>\n",
       "</div>"
      ],
      "text/plain": [
       "                                md5hash  fitzpatrick_scale  \\\n",
       "0      000491af8dd4d739de520e8a68be7134                  2   \n",
       "1      0009d89a58dac26bb3c113744b7b4196                  3   \n",
       "2      000b6317b3be6d504e212a50e4d5667f                  3   \n",
       "3      000e8dd5ee75dd6668e978e7a4e6fe54                  5   \n",
       "4      0012821d6f11b96cf33f2c2ee5c68d1f                  3   \n",
       "...                                 ...                ...   \n",
       "16572  ffece33de2058fcc5027d70e699391bc                  2   \n",
       "16573  fff56febadeacf46b326b2543da5cafa                  4   \n",
       "16574  fff739b6e0d5e78da4576a0fd9943bdf                  1   \n",
       "16575  fffce1f2b2f2dc9fd0b96d9099629d93                  3   \n",
       "16576  ffffdecd2ded614ecd1f27a3fe919674                  4   \n",
       "\n",
       "       fitzpatrick_centaur                               label  \\\n",
       "0                        1  disseminated actinic porokeratosis   \n",
       "1                        2             squamous cell carcinoma   \n",
       "2                        1                      dermatofibroma   \n",
       "3                        5                        folliculitis   \n",
       "4                        2                           syringoma   \n",
       "...                    ...                                 ...   \n",
       "16572                    1                           urticaria   \n",
       "16573                    4                     photodermatoses   \n",
       "16574                    1                     photodermatoses   \n",
       "16575                    4                     fixed eruptions   \n",
       "16576                   -1                        lymphangioma   \n",
       "\n",
       "      nine_partition_label three_partition_label   qc  \\\n",
       "0         benign epidermal                benign  NaN   \n",
       "1      malignant epidermal             malignant  NaN   \n",
       "2            benign dermal                benign  NaN   \n",
       "3             inflammatory        non-neoplastic  NaN   \n",
       "4            benign dermal                benign  NaN   \n",
       "...                    ...                   ...  ...   \n",
       "16572         inflammatory        non-neoplastic  NaN   \n",
       "16573         inflammatory        non-neoplastic  NaN   \n",
       "16574         inflammatory        non-neoplastic  NaN   \n",
       "16575         inflammatory        non-neoplastic  NaN   \n",
       "16576        benign dermal                benign  NaN   \n",
       "\n",
       "                                                     url  \\\n",
       "0      https://www.dermaamin.com/site/images/clinical...   \n",
       "1      https://www.dermaamin.com/site/images/clinical...   \n",
       "2      https://www.dermaamin.com/site/images/clinical...   \n",
       "3      http://atlasdermatologico.com.br/img?imageId=6185   \n",
       "4      https://www.dermaamin.com/site/images/clinical...   \n",
       "...                                                  ...   \n",
       "16572  https://www.dermaamin.com/site/images/clinical...   \n",
       "16573  http://atlasdermatologico.com.br/img?imageId=5435   \n",
       "16574  https://www.dermaamin.com/site/images/clinical...   \n",
       "16575  http://atlasdermatologico.com.br/img?imageId=2099   \n",
       "16576  http://atlasdermatologico.com.br/img?imageId=4150   \n",
       "\n",
       "                                            url_alphanum  \n",
       "0      httpwwwdermaamincomsiteimagesclinicalpicddisse...  \n",
       "1      httpwwwdermaamincomsiteimagesclinicalpicbbowen...  \n",
       "2      httpwwwdermaamincomsiteimagesclinicalpicdderma...  \n",
       "3       httpwwwatlasdermatologicocombrimgimageId6185.jpg  \n",
       "4      httpwwwdermaamincomsiteimagesclinicalpicssyrin...  \n",
       "...                                                  ...  \n",
       "16572  httpwwwdermaamincomsiteimagesclinicalpicppapul...  \n",
       "16573   httpwwwatlasdermatologicocombrimgimageId5435.jpg  \n",
       "16574  httpwwwdermaamincomsiteimagesclinicalpicppolym...  \n",
       "16575   httpwwwatlasdermatologicocombrimgimageId2099.jpg  \n",
       "16576   httpwwwatlasdermatologicocombrimgimageId4150.jpg  \n",
       "\n",
       "[16577 rows x 9 columns]"
      ]
     },
     "execution_count": 4,
     "metadata": {},
     "output_type": "execute_result"
    }
   ],
   "source": [
    "data"
   ]
  },
  {
   "cell_type": "code",
   "execution_count": 5,
   "id": "e2d368a7",
   "metadata": {},
   "outputs": [
    {
     "data": {
      "text/plain": [
       "psoriasis                      653\n",
       "squamous cell carcinoma        581\n",
       "lichen planus                  491\n",
       "basal cell carcinoma           468\n",
       "allergic contact dermatitis    430\n",
       "                              ... \n",
       "paronychia                      59\n",
       "erythema elevatum diutinum      55\n",
       "xanthomas                       53\n",
       "pilomatricoma                   53\n",
       "pustular psoriasis              53\n",
       "Name: label, Length: 114, dtype: int64"
      ]
     },
     "execution_count": 5,
     "metadata": {},
     "output_type": "execute_result"
    }
   ],
   "source": [
    "data['label'].value_counts()"
   ]
  },
  {
   "cell_type": "code",
   "execution_count": 6,
   "id": "e306be07",
   "metadata": {
    "scrolled": true
   },
   "outputs": [
    {
     "data": {
      "image/png": "[encoded data removed]",
      "text/plain": [
       "<Figure size 640x480 with 1 Axes>"
      ]
     },
     "metadata": {},
     "output_type": "display_data"
    },
    {
     "data": {
      "text/plain": [
       "<Figure size 1000x900 with 0 Axes>"
      ]
     },
     "metadata": {},
     "output_type": "display_data"
    }
   ],
   "source": [
    "data['label'].hist()\n",
    "plt.title('Labels')\n",
    "plt.figure(figsize=(10,9))\n",
    "plt.show()"
   ]
  },
  {
   "cell_type": "code",
   "execution_count": 7,
   "id": "81dd7f85",
   "metadata": {
    "scrolled": false
   },
   "outputs": [
    {
     "data": {
      "image/png": "[encoded data removed]",
      "text/plain": [
       "<Figure size 640x480 with 1 Axes>"
      ]
     },
     "metadata": {},
     "output_type": "display_data"
    },
    {
     "data": {
      "text/plain": [
       "<Figure size 1000x900 with 0 Axes>"
      ]
     },
     "metadata": {},
     "output_type": "display_data"
    }
   ],
   "source": [
    "data['fitzpatrick_scale'].hist()\n",
    "plt.title('Fitzpatrick scale')\n",
    "plt.figure(figsize=(10,9))\n",
    "plt.show()"
   ]
  },
  {
   "cell_type": "code",
   "execution_count": 8,
   "id": "d6964284",
   "metadata": {},
   "outputs": [
    {
     "data": {
      "text/plain": [
       " 2    4808\n",
       " 3    3308\n",
       " 1    2947\n",
       " 4    2781\n",
       " 5    1533\n",
       " 6     635\n",
       "-1     565\n",
       "Name: fitzpatrick_scale, dtype: int64"
      ]
     },
     "execution_count": 8,
     "metadata": {},
     "output_type": "execute_result"
    }
   ],
   "source": [
    "data['fitzpatrick_scale'].value_counts()"
   ]
  },
  {
   "cell_type": "code",
   "execution_count": 9,
   "id": "c3a6c3c2",
   "metadata": {},
   "outputs": [],
   "source": [
    "data.drop(data[data['fitzpatrick_scale']==-1].index,axis=0,inplace=True)"
   ]
  },
  {
   "cell_type": "code",
   "execution_count": 10,
   "id": "e3f269ef",
   "metadata": {},
   "outputs": [
    {
     "data": {
      "text/plain": [
       "2    4808\n",
       "3    3308\n",
       "1    2947\n",
       "4    2781\n",
       "5    1533\n",
       "6     635\n",
       "Name: fitzpatrick_scale, dtype: int64"
      ]
     },
     "execution_count": 10,
     "metadata": {},
     "output_type": "execute_result"
    }
   ],
   "source": [
    "data['fitzpatrick_scale'].value_counts()"
   ]
  },
  {
   "cell_type": "code",
   "execution_count": 11,
   "id": "27f8bd0f",
   "metadata": {},
   "outputs": [
    {
     "data": {
      "text/plain": [
       "[Text(0.5, 1.0, 'Class')]"
      ]
     },
     "execution_count": 11,
     "metadata": {},
     "output_type": "execute_result"
    },
    {
     "data": {
      "image/png": "[encoded data removed]",
      "text/plain": [
       "<Figure size 640x480 with 1 Axes>"
      ]
     },
     "metadata": {},
     "output_type": "display_data"
    }
   ],
   "source": [
    "sns.histplot(data['fitzpatrick_scale'],bins=15,color='orange').set(title=('Class'))"
   ]
  },
  {
   "cell_type": "markdown",
   "id": "e17584f3",
   "metadata": {},
   "source": [
    "# Making function to move images into classes"
   ]
  },
  {
   "cell_type": "code",
   "execution_count": 9,
   "id": "4338efb3",
   "metadata": {},
   "outputs": [],
   "source": [
    "import os"
   ]
  },
  {
   "cell_type": "code",
   "execution_count": 12,
   "id": "6d2f94f8",
   "metadata": {
    "scrolled": true
   },
   "outputs": [
    {
     "name": "stdout",
     "output_type": "stream",
     "text": [
      "0 fpScale1\n",
      "1 fpScale2\n",
      "2 fpScale3\n",
      "3 fpScale4\n",
      "4 fpScale5\n",
      "5 fpScale6\n",
      "2947\n",
      "4808\n",
      "3308\n",
      "2781\n",
      "1533\n",
      "635\n"
     ]
    }
   ],
   "source": [
    "scale1 = list(data[data['fitzpatrick_scale']==1]['md5hash'])\n",
    "targetLabels=['fpScale1','fpScale2','fpScale3','fpScale4','fpScale5','fpScale6']\n",
    "daLabels =[]\n",
    "for i,name in enumerate(targetLabels):\n",
    "    print(i,name)\n",
    "    name = list(data[data['fitzpatrick_scale']==i+1]['md5hash'])\n",
    "    daLabels.append(name)\n",
    "    \n",
    "for i in daLabels:\n",
    "    print(len(i))"
   ]
  },
  {
   "cell_type": "code",
   "execution_count": 11,
   "id": "a658bb55",
   "metadata": {},
   "outputs": [],
   "source": [
    "dataset =[['train',\n",
    "           [['fpScale1',[]],\n",
    "            ['fpScale2',[]],\n",
    "            ['fpScale3',[]],\n",
    "            ['fpScale4',[]],\n",
    "            ['fpScale5',[]],\n",
    "            ['fpScale6',[]]]],\n",
    "          ['validate',\n",
    "           [['fpScale1',[]],\n",
    "            ['fpScale2',[]],\n",
    "            ['fpScale3',[]],\n",
    "            ['fpScale4',[]],\n",
    "            ['fpScale5',[]],\n",
    "            ['fpScale6',[]]]],\n",
    "          ['test',\n",
    "           [['fpScale1',[]],\n",
    "            ['fpScale2',[]],\n",
    "            ['fpScale3',[]],\n",
    "            ['fpScale4',[]],\n",
    "            ['fpScale5',[]],\n",
    "            ['fpScale6',[]]]\n",
    "          ]]"
   ]
  },
  {
   "cell_type": "code",
   "execution_count": 143,
   "id": "c0aa929e",
   "metadata": {},
   "outputs": [],
   "source": [
    "#dataset[0][1].append(20)\n",
    "#dataset[2][1][5][1].append([20,30,40])\n",
    "#dataset[1][1][4][1].append([20,30,40])\n",
    "#dataset"
   ]
  },
  {
   "cell_type": "code",
   "execution_count": 15,
   "id": "39bb82cb",
   "metadata": {
    "scrolled": false
   },
   "outputs": [
    {
     "name": "stdout",
     "output_type": "stream",
     "text": [
      "2947\n",
      "fpScale1 trainSize:  1887\n",
      "fpScale1 valSize:  471\n",
      "fpScale1 testSize:  589\n",
      "\n",
      "4808\n",
      "fpScale2 trainSize:  3078\n",
      "fpScale2 valSize:  769\n",
      "fpScale2 testSize:  961\n",
      "\n",
      "3308\n",
      "fpScale3 trainSize:  2118\n",
      "fpScale3 valSize:  529\n",
      "fpScale3 testSize:  661\n",
      "\n",
      "2781\n",
      "fpScale4 trainSize:  1780\n",
      "fpScale4 valSize:  444\n",
      "fpScale4 testSize:  556\n",
      "\n",
      "1533\n",
      "fpScale5 trainSize:  982\n",
      "fpScale5 valSize:  245\n",
      "fpScale5 testSize:  306\n",
      "\n",
      "635\n",
      "fpScale6 trainSize:  407\n",
      "fpScale6 valSize:  101\n",
      "fpScale6 testSize:  127\n",
      "\n"
     ]
    }
   ],
   "source": [
    "for i,items in enumerate(daLabels):\n",
    "    # Sets the random seed \n",
    "    random.seed(101)\n",
    "    \n",
    "    imageList=list(items)\n",
    "    # Shuffle the list of image filenames\n",
    "    random.shuffle(imageList)\n",
    "\n",
    "    # determine the number of images for each set\n",
    "    trainSize = math.ceil(len(imageList) * 0.80*0.80)\n",
    "    valSize = int(len(imageList) * 0.80*0.20)\n",
    "    testSize = int(len(imageList) * 0.2)\n",
    "    \n",
    "    trainImages = imageList[0:trainSize]\n",
    "    valImages = imageList[trainSize:(trainSize+valSize)]\n",
    "    testImages = imageList[(trainSize+valSize):]\n",
    "    \n",
    "    for j,labels in enumerate([trainImages,valImages,testImages]):\n",
    "        dataset[j][1][i][1].append(labels)\n",
    "    \n",
    "    print(len(items))\n",
    "    print(targetLabels[i]+' trainSize: ', trainSize) \n",
    "    print(targetLabels[i]+' valSize: ', valSize)\n",
    "    print(targetLabels[i]+' testSize: ', testSize)   \n",
    "    print('')\n",
    "#     print(imageList[0:trainSize])\n",
    "#     print(len(imageList[0:trainSize]))\n",
    "#     print(imageList[trainSize:(trainSize+valSize)])\n",
    "#     print(len(imageList[trainSize:(trainSize+valSize)]))  \n",
    "#     print(imageList[(trainSize+valSize):])\n",
    "#     print(len(imageList[(trainSize+valSize):]))\n",
    "    #check = trainImages+valImages+testImages\n",
    "    #print('AAAAA')\n",
    "    #print(len(check))\n",
    "    #print(check)\n",
    "    \n",
    "    \n",
    "    #print(imageList == check)"
   ]
  },
  {
   "cell_type": "code",
   "execution_count": 16,
   "id": "30a806dc",
   "metadata": {},
   "outputs": [
    {
     "name": "stdout",
     "output_type": "stream",
     "text": [
      "True\n",
      "True\n",
      "True\n",
      "True\n",
      "True\n",
      "True\n"
     ]
    }
   ],
   "source": [
    "#checking for uniqueness\n",
    "for i,a in enumerate(daLabels):\n",
    "    ch=dataset[0][1][i][1][0]+dataset[1][1][i][1][0]+dataset[2][1][i][1][0]\n",
    "    print(set(daLabels[i])==set(ch))"
   ]
  },
  {
   "cell_type": "code",
   "execution_count": 17,
   "id": "2c265693",
   "metadata": {},
   "outputs": [],
   "source": [
    "import shutil, os"
   ]
  },
  {
   "cell_type": "code",
   "execution_count": 21,
   "id": "d330ba4d",
   "metadata": {
    "scrolled": true
   },
   "outputs": [],
   "source": [
    "#split images into classes\n",
    "def copyImages(parentFolder,dataset,targetLabel,data):\n",
    "    '''\n",
    "    move images from parent folder to dataset to target label folder\n",
    "    E.G data/a.jpg to data/data/train/fp1/a.jpg\n",
    "    '''\n",
    "    \n",
    "    # Get the appropriate labels\n",
    "    print(f\"\\nUsing {dataset} labels...\")\n",
    "\n",
    "    # Make target directory\n",
    "    os.makedirs(parentFolder + \"/data/fitzPatrick/\" + dataset + \"/\" + targetLabel, \n",
    "                exist_ok=True)\n",
    "\n",
    "    # Go through labels and get appropriate classes\n",
    "    images_moved = [] # Keep track of images moved\n",
    "    for j in data:\n",
    "        # Create original image path and new path\n",
    "        og_path = parentFolder + \"/finalfitz17k/\" + j + \".jpg\"\n",
    "        new_path = parentFolder + \"/data/fitzPatrick/\"  + dataset + \"/\" +targetLabel+'/'+ j + \".jpg\"\n",
    "\n",
    "        # Copy images from old path to new path, Uncomment this to allow copying\n",
    "        shutil.copy2(og_path, new_path)\n",
    "        images_moved.append(new_path)\n",
    "    print(f\"Copied {len(images_moved)} images from {dataset} dataset {targetLabel} class...\")\n",
    "                   \n",
    "            \n"
   ]
  },
  {
   "cell_type": "code",
   "execution_count": 22,
   "id": "6105dcd6",
   "metadata": {},
   "outputs": [
    {
     "name": "stdout",
     "output_type": "stream",
     "text": [
      "\n",
      "Using train labels...\n",
      "Copied 1887 images from train dataset fpScale1 class...\n",
      "\n",
      "Using train labels...\n",
      "Copied 3078 images from train dataset fpScale2 class...\n",
      "\n",
      "Using train labels...\n",
      "Copied 2118 images from train dataset fpScale3 class...\n",
      "\n",
      "Using train labels...\n",
      "Copied 1780 images from train dataset fpScale4 class...\n",
      "\n",
      "Using train labels...\n",
      "Copied 982 images from train dataset fpScale5 class...\n",
      "\n",
      "Using train labels...\n",
      "Copied 407 images from train dataset fpScale6 class...\n",
      "\n",
      "Using val labels...\n",
      "Copied 471 images from val dataset fpScale1 class...\n",
      "\n",
      "Using val labels...\n",
      "Copied 769 images from val dataset fpScale2 class...\n",
      "\n",
      "Using val labels...\n",
      "Copied 529 images from val dataset fpScale3 class...\n",
      "\n",
      "Using val labels...\n",
      "Copied 444 images from val dataset fpScale4 class...\n",
      "\n",
      "Using val labels...\n",
      "Copied 245 images from val dataset fpScale5 class...\n",
      "\n",
      "Using val labels...\n",
      "Copied 101 images from val dataset fpScale6 class...\n",
      "\n",
      "Using test labels...\n",
      "Copied 589 images from test dataset fpScale1 class...\n",
      "\n",
      "Using test labels...\n",
      "Copied 961 images from test dataset fpScale2 class...\n",
      "\n",
      "Using test labels...\n",
      "Copied 661 images from test dataset fpScale3 class...\n",
      "\n",
      "Using test labels...\n",
      "Copied 557 images from test dataset fpScale4 class...\n",
      "\n",
      "Using test labels...\n",
      "Copied 306 images from test dataset fpScale5 class...\n",
      "\n",
      "Using test labels...\n",
      "Copied 127 images from test dataset fpScale6 class...\n"
     ]
    }
   ],
   "source": [
    "targetLabels=['fpScale1','fpScale2','fpScale3','fpScale4','fpScale5','fpScale6']\n",
    "datasets=['train','val','test']\n",
    "parentFolder = 'data'\n",
    "\n",
    "for i,na in enumerate(datasets):\n",
    "    for j,name in enumerate(targetLabels):\n",
    "        #print(len(dataset[i][1][j][1][0]))\n",
    "        copyImages(parentFolder=parentFolder,\n",
    "                   dataset=na,\n",
    "                   data=dataset[i][1][j][1][0],\n",
    "                   targetLabel=name)"
   ]
  },
  {
   "cell_type": "code",
   "execution_count": 342,
   "id": "1efc232c",
   "metadata": {},
   "outputs": [
    {
     "data": {
      "text/plain": [
       "'D:\\\\python\\\\pyForDataScience\\\\skinCancer\\\\dataPreprocessing'"
      ]
     },
     "execution_count": 342,
     "metadata": {},
     "output_type": "execute_result"
    }
   ],
   "source": [
    "os.getcwd()"
   ]
  }
 ],
 "metadata": {
  "kernelspec": {
   "display_name": "Python 3 (ipykernel)",
   "language": "python",
   "name": "python3"
  },
  "language_info": {
   "codemirror_mode": {
    "name": "ipython",
    "version": 3
   },
   "file_extension": ".py",
   "mimetype": "text/x-python",
   "name": "python",
   "nbconvert_exporter": "python",
   "pygments_lexer": "ipython3",
   "version": "3.10.9"
  }
 },
 "nbformat": 4,
 "nbformat_minor": 5
}
