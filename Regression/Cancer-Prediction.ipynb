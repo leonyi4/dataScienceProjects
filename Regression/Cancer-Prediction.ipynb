{
 "cells": [
  {
   "cell_type": "markdown",
   "id": "49403ff5",
   "metadata": {
    "papermill": {
     "duration": 0.012652,
     "end_time": "2024-10-15T20:19:57.233497",
     "exception": false,
     "start_time": "2024-10-15T20:19:57.220845",
     "status": "completed"
    },
    "tags": []
   },
   "source": [
    "# Setting up"
   ]
  },
  {
   "cell_type": "code",
   "execution_count": 1,
   "id": "abcb6ca9",
   "metadata": {
    "execution": {
     "iopub.execute_input": "2024-10-15T20:19:57.256489Z",
     "iopub.status.busy": "2024-10-15T20:19:57.255938Z",
     "iopub.status.idle": "2024-10-15T20:19:58.208688Z",
     "shell.execute_reply": "2024-10-15T20:19:58.207705Z"
    },
    "papermill": {
     "duration": 0.967323,
     "end_time": "2024-10-15T20:19:58.211434",
     "exception": false,
     "start_time": "2024-10-15T20:19:57.244111",
     "status": "completed"
    },
    "tags": []
   },
   "outputs": [],
   "source": [
    "import pandas as pd\n",
    "import matplotlib.pyplot as plt\n",
    "import numpy as np"
   ]
  },
  {
   "cell_type": "code",
   "execution_count": 2,
   "id": "c0fa6711",
   "metadata": {
    "execution": {
     "iopub.execute_input": "2024-10-15T20:19:58.234946Z",
     "iopub.status.busy": "2024-10-15T20:19:58.233691Z",
     "iopub.status.idle": "2024-10-15T20:19:58.274118Z",
     "shell.execute_reply": "2024-10-15T20:19:58.273150Z"
    },
    "papermill": {
     "duration": 0.054635,
     "end_time": "2024-10-15T20:19:58.276683",
     "exception": false,
     "start_time": "2024-10-15T20:19:58.222048",
     "status": "completed"
    },
    "tags": []
   },
   "outputs": [
    {
     "data": {
      "text/html": [
       "<div>\n",
       "<style scoped>\n",
       "    .dataframe tbody tr th:only-of-type {\n",
       "        vertical-align: middle;\n",
       "    }\n",
       "\n",
       "    .dataframe tbody tr th {\n",
       "        vertical-align: top;\n",
       "    }\n",
       "\n",
       "    .dataframe thead th {\n",
       "        text-align: right;\n",
       "    }\n",
       "</style>\n",
       "<table border=\"1\" class=\"dataframe\">\n",
       "  <thead>\n",
       "    <tr style=\"text-align: right;\">\n",
       "      <th></th>\n",
       "      <th>Sr No.</th>\n",
       "      <th>Smoking Habit</th>\n",
       "      <th>Drinking Habit</th>\n",
       "      <th>Biking Habit</th>\n",
       "      <th>Walking Habit</th>\n",
       "      <th>Jogging Habit</th>\n",
       "      <th>Probability of Cancer</th>\n",
       "    </tr>\n",
       "  </thead>\n",
       "  <tbody>\n",
       "    <tr>\n",
       "      <th>0</th>\n",
       "      <td>1</td>\n",
       "      <td>Heavy</td>\n",
       "      <td>Frequent</td>\n",
       "      <td>Low</td>\n",
       "      <td>Low</td>\n",
       "      <td>Low</td>\n",
       "      <td>0.8</td>\n",
       "    </tr>\n",
       "    <tr>\n",
       "      <th>1</th>\n",
       "      <td>2</td>\n",
       "      <td>Occasional</td>\n",
       "      <td>Moderate</td>\n",
       "      <td>High</td>\n",
       "      <td>High</td>\n",
       "      <td>High</td>\n",
       "      <td>0.2</td>\n",
       "    </tr>\n",
       "    <tr>\n",
       "      <th>2</th>\n",
       "      <td>3</td>\n",
       "      <td>NaN</td>\n",
       "      <td>NaN</td>\n",
       "      <td>High</td>\n",
       "      <td>High</td>\n",
       "      <td>High</td>\n",
       "      <td>0.1</td>\n",
       "    </tr>\n",
       "    <tr>\n",
       "      <th>3</th>\n",
       "      <td>4</td>\n",
       "      <td>Heavy</td>\n",
       "      <td>Frequent</td>\n",
       "      <td>Low</td>\n",
       "      <td>Low</td>\n",
       "      <td>Low</td>\n",
       "      <td>0.9</td>\n",
       "    </tr>\n",
       "    <tr>\n",
       "      <th>4</th>\n",
       "      <td>5</td>\n",
       "      <td>Moderate</td>\n",
       "      <td>Occasional</td>\n",
       "      <td>Medium</td>\n",
       "      <td>Medium</td>\n",
       "      <td>Medium</td>\n",
       "      <td>0.4</td>\n",
       "    </tr>\n",
       "  </tbody>\n",
       "</table>\n",
       "</div>"
      ],
      "text/plain": [
       "   Sr No. Smoking Habit Drinking Habit Biking Habit Walking Habit  \\\n",
       "0       1         Heavy       Frequent          Low           Low   \n",
       "1       2    Occasional       Moderate         High          High   \n",
       "2       3           NaN            NaN         High          High   \n",
       "3       4         Heavy       Frequent          Low           Low   \n",
       "4       5      Moderate     Occasional       Medium        Medium   \n",
       "\n",
       "  Jogging Habit  Probability of Cancer  \n",
       "0           Low                    0.8  \n",
       "1          High                    0.2  \n",
       "2          High                    0.1  \n",
       "3           Low                    0.9  \n",
       "4        Medium                    0.4  "
      ]
     },
     "execution_count": 2,
     "metadata": {},
     "output_type": "execute_result"
    }
   ],
   "source": [
    "df = pd.read_csv(\"/kaggle/input/cancer-probabilities/cancer-probabilities.csv\")\n",
    "df.head(5)"
   ]
  },
  {
   "cell_type": "markdown",
   "id": "f70ccdb9",
   "metadata": {
    "papermill": {
     "duration": 0.01017,
     "end_time": "2024-10-15T20:19:58.297501",
     "exception": false,
     "start_time": "2024-10-15T20:19:58.287331",
     "status": "completed"
    },
    "tags": []
   },
   "source": [
    "**Dataset Descripton**\n",
    "\n",
    "Sr No.: A unique identifier for each observation.\n",
    "\n",
    "Smoking Habit: Categorizes individuals based on their smoking frequency (e.g., Heavy, Moderate, Occasional, None).\n",
    "\n",
    "Drinking Habit: Categorizes individuals based on their alcohol consumption frequency (e.g., Frequent, Occasional, None).\n",
    "\n",
    "Biking Habit: Measures the frequency of biking activity (e.g., High, Medium, Low).\n",
    "\n",
    "Walking Habit: Measures the frequency of walking activity (e.g., High, Medium, Low).\n",
    "\n",
    "Jogging Habit: Measures the frequency of jogging activity (e.g., High, Medium, Low).\n",
    "\n",
    "Probability of Cancer: A numerical value representing the estimated likelihood of developing cancer, ranging from 0 to 1."
   ]
  },
  {
   "cell_type": "code",
   "execution_count": 3,
   "id": "8cfe7916",
   "metadata": {
    "execution": {
     "iopub.execute_input": "2024-10-15T20:19:58.321382Z",
     "iopub.status.busy": "2024-10-15T20:19:58.320703Z",
     "iopub.status.idle": "2024-10-15T20:19:58.352092Z",
     "shell.execute_reply": "2024-10-15T20:19:58.350909Z"
    },
    "papermill": {
     "duration": 0.046048,
     "end_time": "2024-10-15T20:19:58.354993",
     "exception": false,
     "start_time": "2024-10-15T20:19:58.308945",
     "status": "completed"
    },
    "tags": []
   },
   "outputs": [
    {
     "name": "stdout",
     "output_type": "stream",
     "text": [
      "<class 'pandas.core.frame.DataFrame'>\n",
      "RangeIndex: 50 entries, 0 to 49\n",
      "Data columns (total 7 columns):\n",
      " #   Column                 Non-Null Count  Dtype  \n",
      "---  ------                 --------------  -----  \n",
      " 0   Sr No.                 50 non-null     int64  \n",
      " 1   Smoking Habit          34 non-null     object \n",
      " 2   Drinking Habit         34 non-null     object \n",
      " 3   Biking Habit           50 non-null     object \n",
      " 4   Walking Habit          50 non-null     object \n",
      " 5   Jogging Habit          50 non-null     object \n",
      " 6   Probability of Cancer  50 non-null     float64\n",
      "dtypes: float64(1), int64(1), object(5)\n",
      "memory usage: 2.9+ KB\n"
     ]
    }
   ],
   "source": [
    "df.info()\n",
    "\n",
    "# Data Preprocessing\n",
    "# Issue with the dataset: it takes \"None\" level for smoking and biking habits as NaN values\n",
    "# Need to replace the Nan values as string \"None\""
   ]
  },
  {
   "cell_type": "code",
   "execution_count": 4,
   "id": "a93cf324",
   "metadata": {
    "execution": {
     "iopub.execute_input": "2024-10-15T20:19:58.378767Z",
     "iopub.status.busy": "2024-10-15T20:19:58.378334Z",
     "iopub.status.idle": "2024-10-15T20:19:58.388000Z",
     "shell.execute_reply": "2024-10-15T20:19:58.386799Z"
    },
    "papermill": {
     "duration": 0.024663,
     "end_time": "2024-10-15T20:19:58.390783",
     "exception": false,
     "start_time": "2024-10-15T20:19:58.366120",
     "status": "completed"
    },
    "tags": []
   },
   "outputs": [
    {
     "data": {
      "text/plain": [
       "Sr No.                    0\n",
       "Smoking Habit            16\n",
       "Drinking Habit           16\n",
       "Biking Habit              0\n",
       "Walking Habit             0\n",
       "Jogging Habit             0\n",
       "Probability of Cancer     0\n",
       "dtype: int64"
      ]
     },
     "execution_count": 4,
     "metadata": {},
     "output_type": "execute_result"
    }
   ],
   "source": [
    "df.isna().sum()"
   ]
  },
  {
   "cell_type": "code",
   "execution_count": 5,
   "id": "69cef3ac",
   "metadata": {
    "execution": {
     "iopub.execute_input": "2024-10-15T20:19:58.414604Z",
     "iopub.status.busy": "2024-10-15T20:19:58.414155Z",
     "iopub.status.idle": "2024-10-15T20:19:58.426755Z",
     "shell.execute_reply": "2024-10-15T20:19:58.425596Z"
    },
    "papermill": {
     "duration": 0.027347,
     "end_time": "2024-10-15T20:19:58.429314",
     "exception": false,
     "start_time": "2024-10-15T20:19:58.401967",
     "status": "completed"
    },
    "tags": []
   },
   "outputs": [
    {
     "name": "stdout",
     "output_type": "stream",
     "text": [
      "<class 'pandas.core.frame.DataFrame'>\n",
      "RangeIndex: 50 entries, 0 to 49\n",
      "Data columns (total 7 columns):\n",
      " #   Column                 Non-Null Count  Dtype  \n",
      "---  ------                 --------------  -----  \n",
      " 0   Sr No.                 50 non-null     int64  \n",
      " 1   Smoking Habit          50 non-null     object \n",
      " 2   Drinking Habit         50 non-null     object \n",
      " 3   Biking Habit           50 non-null     object \n",
      " 4   Walking Habit          50 non-null     object \n",
      " 5   Jogging Habit          50 non-null     object \n",
      " 6   Probability of Cancer  50 non-null     float64\n",
      "dtypes: float64(1), int64(1), object(5)\n",
      "memory usage: 2.9+ KB\n"
     ]
    }
   ],
   "source": [
    "df = df.fillna(\"None\")\n",
    "df.info()"
   ]
  },
  {
   "cell_type": "code",
   "execution_count": 6,
   "id": "0d46651c",
   "metadata": {
    "execution": {
     "iopub.execute_input": "2024-10-15T20:19:58.453829Z",
     "iopub.status.busy": "2024-10-15T20:19:58.453393Z",
     "iopub.status.idle": "2024-10-15T20:19:58.462926Z",
     "shell.execute_reply": "2024-10-15T20:19:58.461843Z"
    },
    "papermill": {
     "duration": 0.024321,
     "end_time": "2024-10-15T20:19:58.465237",
     "exception": false,
     "start_time": "2024-10-15T20:19:58.440916",
     "status": "completed"
    },
    "tags": []
   },
   "outputs": [
    {
     "data": {
      "text/plain": [
       "Sr No.                   0\n",
       "Smoking Habit            0\n",
       "Drinking Habit           0\n",
       "Biking Habit             0\n",
       "Walking Habit            0\n",
       "Jogging Habit            0\n",
       "Probability of Cancer    0\n",
       "dtype: int64"
      ]
     },
     "execution_count": 6,
     "metadata": {},
     "output_type": "execute_result"
    }
   ],
   "source": [
    "df.isna().sum()"
   ]
  },
  {
   "cell_type": "code",
   "execution_count": 7,
   "id": "a9eb6b32",
   "metadata": {
    "execution": {
     "iopub.execute_input": "2024-10-15T20:19:58.489345Z",
     "iopub.status.busy": "2024-10-15T20:19:58.488946Z",
     "iopub.status.idle": "2024-10-15T20:19:58.498315Z",
     "shell.execute_reply": "2024-10-15T20:19:58.497239Z"
    },
    "papermill": {
     "duration": 0.024232,
     "end_time": "2024-10-15T20:19:58.500613",
     "exception": false,
     "start_time": "2024-10-15T20:19:58.476381",
     "status": "completed"
    },
    "tags": []
   },
   "outputs": [
    {
     "data": {
      "text/plain": [
       "0"
      ]
     },
     "execution_count": 7,
     "metadata": {},
     "output_type": "execute_result"
    }
   ],
   "source": [
    "df.duplicated().sum()"
   ]
  },
  {
   "cell_type": "markdown",
   "id": "063636a8",
   "metadata": {
    "execution": {
     "iopub.execute_input": "2024-10-05T04:07:40.339062Z",
     "iopub.status.busy": "2024-10-05T04:07:40.338112Z",
     "iopub.status.idle": "2024-10-05T04:07:40.342910Z",
     "shell.execute_reply": "2024-10-05T04:07:40.341828Z",
     "shell.execute_reply.started": "2024-10-05T04:07:40.339016Z"
    },
    "papermill": {
     "duration": 0.010847,
     "end_time": "2024-10-15T20:19:58.522644",
     "exception": false,
     "start_time": "2024-10-15T20:19:58.511797",
     "status": "completed"
    },
    "tags": []
   },
   "source": [
    "# Exploratory Data Analysis (EDA)\n",
    "\n"
   ]
  },
  {
   "cell_type": "code",
   "execution_count": 8,
   "id": "180c814d",
   "metadata": {
    "execution": {
     "iopub.execute_input": "2024-10-15T20:19:58.547056Z",
     "iopub.status.busy": "2024-10-15T20:19:58.546652Z",
     "iopub.status.idle": "2024-10-15T20:20:00.432131Z",
     "shell.execute_reply": "2024-10-15T20:20:00.431003Z"
    },
    "papermill": {
     "duration": 1.900605,
     "end_time": "2024-10-15T20:20:00.434600",
     "exception": false,
     "start_time": "2024-10-15T20:19:58.533995",
     "status": "completed"
    },
    "tags": []
   },
   "outputs": [
    {
     "data": {
      "text/plain": [
       "Index(['Sr No.', 'Smoking Habit', 'Drinking Habit', 'Biking Habit',\n",
       "       'Walking Habit', 'Jogging Habit', 'Probability of Cancer'],\n",
       "      dtype='object')"
      ]
     },
     "execution_count": 8,
     "metadata": {},
     "output_type": "execute_result"
    }
   ],
   "source": [
    "import seaborn as sns\n",
    "\n",
    "cols = df.columns\n",
    "cols"
   ]
  },
  {
   "cell_type": "code",
   "execution_count": 9,
   "id": "55000bd2",
   "metadata": {
    "execution": {
     "iopub.execute_input": "2024-10-15T20:20:00.459574Z",
     "iopub.status.busy": "2024-10-15T20:20:00.458980Z",
     "iopub.status.idle": "2024-10-15T20:20:01.117957Z",
     "shell.execute_reply": "2024-10-15T20:20:01.116640Z"
    },
    "papermill": {
     "duration": 0.674671,
     "end_time": "2024-10-15T20:20:01.120677",
     "exception": false,
     "start_time": "2024-10-15T20:20:00.446006",
     "status": "completed"
    },
    "tags": []
   },
   "outputs": [
    {
     "data": {
      "image/png": "[encoded data removed]",
      "text/plain": [
       "<Figure size 1800x600 with 2 Axes>"
      ]
     },
     "metadata": {},
     "output_type": "display_data"
    }
   ],
   "source": [
    "# Making Pie Charts for 'Drinking Habit' and 'Smoking Habit' Features\n",
    "colors = sns.color_palette('pastel')[0:5] # Set colors to Seaborn Theme\n",
    "reversed_colors = colors[::-1]\n",
    "\n",
    "fig, axes = plt.subplots(1, 2, figsize=(18, 6)) # Make a Subplot with two figures\n",
    " \n",
    "# Make the pie chart for 'Drinking Habit' and set the axes to axes[0], adding it to the subplot\n",
    "axes[0] = df.groupby(['Drinking Habit']).count().plot(kind='pie', ax = axes[0],y='Sr No.',colors=colors)  # Group By target column with count and set y to index column\n",
    "axes[0].legend(bbox_to_anchor=(0.9, 1), loc='upper left',fontsize=10,title='Frequency')\n",
    "axes[0].set_title(\"Drinking Habit Distribution\",fontsize=16)\n",
    "axes[0].set_ylabel('',fontsize=12, labelpad = 15)  # labelpad adds padding between label and chart\n",
    "\n",
    "# Do the same for \"Smoking Habits\"\n",
    "axes[1] = df.groupby(['Smoking Habit']).count().plot(kind='pie', ax = axes[1],y='Sr No.',colors=reversed_colors) \n",
    "axes[1].legend(bbox_to_anchor=(0.9, 1), loc='upper left',fontsize=10,title='Frequency')\n",
    "axes[1].set_title(\"Smoking Habit Distribution\",fontsize=16)\n",
    "axes[1].set_ylabel('',fontsize=12, labelpad = 30)\n",
    "\n",
    "plt.tight_layout()\n",
    "plt.subplots_adjust(wspace=-0.1) # reduces the space between subplots"
   ]
  },
  {
   "cell_type": "code",
   "execution_count": 10,
   "id": "2011b4d9",
   "metadata": {
    "execution": {
     "iopub.execute_input": "2024-10-15T20:20:01.148233Z",
     "iopub.status.busy": "2024-10-15T20:20:01.147784Z",
     "iopub.status.idle": "2024-10-15T20:20:01.888348Z",
     "shell.execute_reply": "2024-10-15T20:20:01.887144Z"
    },
    "papermill": {
     "duration": 0.757315,
     "end_time": "2024-10-15T20:20:01.891024",
     "exception": false,
     "start_time": "2024-10-15T20:20:01.133709",
     "status": "completed"
    },
    "tags": []
   },
   "outputs": [
    {
     "name": "stderr",
     "output_type": "stream",
     "text": [
      "/opt/conda/lib/python3.10/site-packages/seaborn/_oldcore.py:1119: FutureWarning: use_inf_as_na option is deprecated and will be removed in a future version. Convert inf values to NaN before operating instead.\n",
      "  with pd.option_context('mode.use_inf_as_na', True):\n",
      "/opt/conda/lib/python3.10/site-packages/seaborn/_oldcore.py:1119: FutureWarning: use_inf_as_na option is deprecated and will be removed in a future version. Convert inf values to NaN before operating instead.\n",
      "  with pd.option_context('mode.use_inf_as_na', True):\n",
      "/opt/conda/lib/python3.10/site-packages/seaborn/_oldcore.py:1119: FutureWarning: use_inf_as_na option is deprecated and will be removed in a future version. Convert inf values to NaN before operating instead.\n",
      "  with pd.option_context('mode.use_inf_as_na', True):\n"
     ]
    },
    {
     "data": {
      "image/png": "[encoded data removed]",
      "text/plain": [
       "<Figure size 1800x400 with 3 Axes>"
      ]
     },
     "metadata": {},
     "output_type": "display_data"
    }
   ],
   "source": [
    "# Making Histograms for the other 3 features: \"Biking Habit\", \"Walking Habit\", \"Jogging Habit\"\n",
    "lst = [\"Biking Habit\", \"Walking Habit\", \"Jogging Habit\"]\n",
    "figs,axes = plt.subplots(1,3,figsize=(18,4))\n",
    "\n",
    "colors = sns.color_palette('pastel')[0:3] # Set colors to Seaborn Theme\n",
    "\n",
    "for index,i in enumerate(lst):\n",
    "    sns.histplot(df[i],ax=axes[index],color=colors[index])  # Make histplot, set ax to subplot axes and color to the specified color\n",
    "    axes[index].set_title(lst[index],fontsize=16)\n",
    "    axes[index].set_ylabel(\"Frequency\")\n",
    "    axes[index].set_xlabel(\"Amount\")"
   ]
  },
  {
   "cell_type": "markdown",
   "id": "b6b05760",
   "metadata": {
    "papermill": {
     "duration": 0.012832,
     "end_time": "2024-10-15T20:20:01.917170",
     "exception": false,
     "start_time": "2024-10-15T20:20:01.904338",
     "status": "completed"
    },
    "tags": []
   },
   "source": [
    "# Data Preprocessing"
   ]
  },
  {
   "cell_type": "code",
   "execution_count": 11,
   "id": "c999d5b5",
   "metadata": {
    "execution": {
     "iopub.execute_input": "2024-10-15T20:20:01.945279Z",
     "iopub.status.busy": "2024-10-15T20:20:01.944841Z",
     "iopub.status.idle": "2024-10-15T20:20:02.126008Z",
     "shell.execute_reply": "2024-10-15T20:20:02.125019Z"
    },
    "papermill": {
     "duration": 0.198555,
     "end_time": "2024-10-15T20:20:02.128816",
     "exception": false,
     "start_time": "2024-10-15T20:20:01.930261",
     "status": "completed"
    },
    "tags": []
   },
   "outputs": [],
   "source": [
    "from sklearn.preprocessing import LabelEncoder,OneHotEncoder"
   ]
  },
  {
   "cell_type": "markdown",
   "id": "2f7d2a23",
   "metadata": {
    "papermill": {
     "duration": 0.012893,
     "end_time": "2024-10-15T20:20:02.155076",
     "exception": false,
     "start_time": "2024-10-15T20:20:02.142183",
     "status": "completed"
    },
    "tags": []
   },
   "source": [
    "Label Encoder will be used for simplicity in this notebook\n",
    "\n",
    "* **Label Encoder** turns the categorical data into numerical in a simple way\n",
    "    - ['a', 'b', 'c', 'a'] = [0,1,2,0]\n",
    "\n",
    "* **One hot encoder** turns the categorical data into a bitmap\n",
    "    - ['a', 'b']$^T$  = [1,0],[0,1]\n"
   ]
  },
  {
   "cell_type": "code",
   "execution_count": 12,
   "id": "b3b1bd54",
   "metadata": {
    "execution": {
     "iopub.execute_input": "2024-10-15T20:20:02.183972Z",
     "iopub.status.busy": "2024-10-15T20:20:02.183081Z",
     "iopub.status.idle": "2024-10-15T20:20:02.192446Z",
     "shell.execute_reply": "2024-10-15T20:20:02.191238Z"
    },
    "papermill": {
     "duration": 0.026608,
     "end_time": "2024-10-15T20:20:02.195059",
     "exception": false,
     "start_time": "2024-10-15T20:20:02.168451",
     "status": "completed"
    },
    "tags": []
   },
   "outputs": [],
   "source": [
    "# Drop the ID feature \n",
    "df = df.drop('Sr No.',axis=1)"
   ]
  },
  {
   "cell_type": "code",
   "execution_count": 13,
   "id": "05889193",
   "metadata": {
    "execution": {
     "iopub.execute_input": "2024-10-15T20:20:02.223061Z",
     "iopub.status.busy": "2024-10-15T20:20:02.222613Z",
     "iopub.status.idle": "2024-10-15T20:20:02.239974Z",
     "shell.execute_reply": "2024-10-15T20:20:02.238854Z"
    },
    "papermill": {
     "duration": 0.034592,
     "end_time": "2024-10-15T20:20:02.242740",
     "exception": false,
     "start_time": "2024-10-15T20:20:02.208148",
     "status": "completed"
    },
    "tags": []
   },
   "outputs": [
    {
     "data": {
      "text/html": [
       "<div>\n",
       "<style scoped>\n",
       "    .dataframe tbody tr th:only-of-type {\n",
       "        vertical-align: middle;\n",
       "    }\n",
       "\n",
       "    .dataframe tbody tr th {\n",
       "        vertical-align: top;\n",
       "    }\n",
       "\n",
       "    .dataframe thead th {\n",
       "        text-align: right;\n",
       "    }\n",
       "</style>\n",
       "<table border=\"1\" class=\"dataframe\">\n",
       "  <thead>\n",
       "    <tr style=\"text-align: right;\">\n",
       "      <th></th>\n",
       "      <th>Smoking Habit</th>\n",
       "      <th>Drinking Habit</th>\n",
       "      <th>Biking Habit</th>\n",
       "      <th>Walking Habit</th>\n",
       "      <th>Jogging Habit</th>\n",
       "      <th>Probability of Cancer</th>\n",
       "    </tr>\n",
       "  </thead>\n",
       "  <tbody>\n",
       "    <tr>\n",
       "      <th>0</th>\n",
       "      <td>0</td>\n",
       "      <td>0</td>\n",
       "      <td>1</td>\n",
       "      <td>1</td>\n",
       "      <td>1</td>\n",
       "      <td>0.8</td>\n",
       "    </tr>\n",
       "    <tr>\n",
       "      <th>1</th>\n",
       "      <td>3</td>\n",
       "      <td>1</td>\n",
       "      <td>0</td>\n",
       "      <td>0</td>\n",
       "      <td>0</td>\n",
       "      <td>0.2</td>\n",
       "    </tr>\n",
       "    <tr>\n",
       "      <th>2</th>\n",
       "      <td>2</td>\n",
       "      <td>2</td>\n",
       "      <td>0</td>\n",
       "      <td>0</td>\n",
       "      <td>0</td>\n",
       "      <td>0.1</td>\n",
       "    </tr>\n",
       "    <tr>\n",
       "      <th>3</th>\n",
       "      <td>0</td>\n",
       "      <td>0</td>\n",
       "      <td>1</td>\n",
       "      <td>1</td>\n",
       "      <td>1</td>\n",
       "      <td>0.9</td>\n",
       "    </tr>\n",
       "    <tr>\n",
       "      <th>4</th>\n",
       "      <td>1</td>\n",
       "      <td>3</td>\n",
       "      <td>2</td>\n",
       "      <td>2</td>\n",
       "      <td>2</td>\n",
       "      <td>0.4</td>\n",
       "    </tr>\n",
       "  </tbody>\n",
       "</table>\n",
       "</div>"
      ],
      "text/plain": [
       "   Smoking Habit  Drinking Habit  Biking Habit  Walking Habit  Jogging Habit  \\\n",
       "0              0               0             1              1              1   \n",
       "1              3               1             0              0              0   \n",
       "2              2               2             0              0              0   \n",
       "3              0               0             1              1              1   \n",
       "4              1               3             2              2              2   \n",
       "\n",
       "   Probability of Cancer  \n",
       "0                    0.8  \n",
       "1                    0.2  \n",
       "2                    0.1  \n",
       "3                    0.9  \n",
       "4                    0.4  "
      ]
     },
     "execution_count": 13,
     "metadata": {},
     "output_type": "execute_result"
    }
   ],
   "source": [
    "# Apply the label encoder to each categorical feature\n",
    "\n",
    "for i in df.columns[:-1]:\n",
    "    le = LabelEncoder()\n",
    "    df[i] = le.fit_transform(df[i])\n",
    "df.head()"
   ]
  },
  {
   "cell_type": "code",
   "execution_count": 14,
   "id": "a60f1d21",
   "metadata": {
    "execution": {
     "iopub.execute_input": "2024-10-15T20:20:02.273189Z",
     "iopub.status.busy": "2024-10-15T20:20:02.272599Z",
     "iopub.status.idle": "2024-10-15T20:20:02.978368Z",
     "shell.execute_reply": "2024-10-15T20:20:02.977211Z"
    },
    "papermill": {
     "duration": 0.723895,
     "end_time": "2024-10-15T20:20:02.980829",
     "exception": false,
     "start_time": "2024-10-15T20:20:02.256934",
     "status": "completed"
    },
    "tags": []
   },
   "outputs": [
    {
     "data": {
      "text/plain": [
       "Text(0.5, 14.722222222222216, 'Features')"
      ]
     },
     "execution_count": 14,
     "metadata": {},
     "output_type": "execute_result"
    },
    {
     "data": {
      "image/png": "[encoded data removed]",
      "text/plain": [
       "<Figure size 1600x400 with 3 Axes>"
      ]
     },
     "metadata": {},
     "output_type": "display_data"
    }
   ],
   "source": [
    "# check correlation for features vs target and make a heatmap + correlation bar graph\n",
    "\n",
    "figs,axes = plt.subplots(1,2,figsize=(16,4))\n",
    "sns.heatmap(df.corr(),ax=axes[0])\n",
    "axes[0].set_title('Correlation Heatmap',fontsize=16)\n",
    "\n",
    "\n",
    "df.corr()['Probability of Cancer']\n",
    "df.corr()['Probability of Cancer'].sort_values()[:-1].plot(kind='bar')\n",
    "axes[1].set_title(\"Correlation between Features and Probabiity of Cancer\",fontsize=16)\n",
    "axes[1].set_ylabel(\"Correlation\")\n",
    "axes[1].set_xlabel(\"Features\")"
   ]
  },
  {
   "cell_type": "code",
   "execution_count": 15,
   "id": "8b26c6df",
   "metadata": {
    "execution": {
     "iopub.execute_input": "2024-10-15T20:20:03.012366Z",
     "iopub.status.busy": "2024-10-15T20:20:03.011918Z",
     "iopub.status.idle": "2024-10-15T20:20:03.025709Z",
     "shell.execute_reply": "2024-10-15T20:20:03.024609Z"
    },
    "papermill": {
     "duration": 0.032328,
     "end_time": "2024-10-15T20:20:03.028153",
     "exception": false,
     "start_time": "2024-10-15T20:20:02.995825",
     "status": "completed"
    },
    "tags": []
   },
   "outputs": [
    {
     "data": {
      "text/html": [
       "<div>\n",
       "<style scoped>\n",
       "    .dataframe tbody tr th:only-of-type {\n",
       "        vertical-align: middle;\n",
       "    }\n",
       "\n",
       "    .dataframe tbody tr th {\n",
       "        vertical-align: top;\n",
       "    }\n",
       "\n",
       "    .dataframe thead th {\n",
       "        text-align: right;\n",
       "    }\n",
       "</style>\n",
       "<table border=\"1\" class=\"dataframe\">\n",
       "  <thead>\n",
       "    <tr style=\"text-align: right;\">\n",
       "      <th></th>\n",
       "      <th>Smoking Habit</th>\n",
       "      <th>Drinking Habit</th>\n",
       "      <th>Biking Habit</th>\n",
       "      <th>Walking Habit</th>\n",
       "      <th>Jogging Habit</th>\n",
       "      <th>Probability of Cancer</th>\n",
       "    </tr>\n",
       "  </thead>\n",
       "  <tbody>\n",
       "    <tr>\n",
       "      <th>0</th>\n",
       "      <td>0</td>\n",
       "      <td>0</td>\n",
       "      <td>1</td>\n",
       "      <td>1</td>\n",
       "      <td>1</td>\n",
       "      <td>0.8</td>\n",
       "    </tr>\n",
       "    <tr>\n",
       "      <th>1</th>\n",
       "      <td>3</td>\n",
       "      <td>1</td>\n",
       "      <td>0</td>\n",
       "      <td>0</td>\n",
       "      <td>0</td>\n",
       "      <td>0.2</td>\n",
       "    </tr>\n",
       "    <tr>\n",
       "      <th>2</th>\n",
       "      <td>2</td>\n",
       "      <td>2</td>\n",
       "      <td>0</td>\n",
       "      <td>0</td>\n",
       "      <td>0</td>\n",
       "      <td>0.1</td>\n",
       "    </tr>\n",
       "    <tr>\n",
       "      <th>3</th>\n",
       "      <td>0</td>\n",
       "      <td>0</td>\n",
       "      <td>1</td>\n",
       "      <td>1</td>\n",
       "      <td>1</td>\n",
       "      <td>0.9</td>\n",
       "    </tr>\n",
       "    <tr>\n",
       "      <th>4</th>\n",
       "      <td>1</td>\n",
       "      <td>3</td>\n",
       "      <td>2</td>\n",
       "      <td>2</td>\n",
       "      <td>2</td>\n",
       "      <td>0.4</td>\n",
       "    </tr>\n",
       "  </tbody>\n",
       "</table>\n",
       "</div>"
      ],
      "text/plain": [
       "   Smoking Habit  Drinking Habit  Biking Habit  Walking Habit  Jogging Habit  \\\n",
       "0              0               0             1              1              1   \n",
       "1              3               1             0              0              0   \n",
       "2              2               2             0              0              0   \n",
       "3              0               0             1              1              1   \n",
       "4              1               3             2              2              2   \n",
       "\n",
       "   Probability of Cancer  \n",
       "0                    0.8  \n",
       "1                    0.2  \n",
       "2                    0.1  \n",
       "3                    0.9  \n",
       "4                    0.4  "
      ]
     },
     "execution_count": 15,
     "metadata": {},
     "output_type": "execute_result"
    }
   ],
   "source": [
    "# Check dataset before the next section\n",
    "# All the features have been turned into numeric data\n",
    "df.head()"
   ]
  },
  {
   "cell_type": "markdown",
   "id": "90a82592",
   "metadata": {
    "papermill": {
     "duration": 0.014661,
     "end_time": "2024-10-15T20:20:03.057591",
     "exception": false,
     "start_time": "2024-10-15T20:20:03.042930",
     "status": "completed"
    },
    "tags": []
   },
   "source": [
    "# Machine Learning Models"
   ]
  },
  {
   "cell_type": "code",
   "execution_count": 16,
   "id": "fd57eedb",
   "metadata": {
    "execution": {
     "iopub.execute_input": "2024-10-15T20:20:03.088759Z",
     "iopub.status.busy": "2024-10-15T20:20:03.088286Z",
     "iopub.status.idle": "2024-10-15T20:20:03.215188Z",
     "shell.execute_reply": "2024-10-15T20:20:03.213607Z"
    },
    "papermill": {
     "duration": 0.145604,
     "end_time": "2024-10-15T20:20:03.217822",
     "exception": false,
     "start_time": "2024-10-15T20:20:03.072218",
     "status": "completed"
    },
    "tags": []
   },
   "outputs": [
    {
     "name": "stdout",
     "output_type": "stream",
     "text": [
      "Total: X: 50  y: 50\n",
      "Training amount: X: 33  y: 33\n",
      "Testing amount: X: 17  y: 17\n"
     ]
    }
   ],
   "source": [
    "from sklearn.model_selection import train_test_split\n",
    "\n",
    "# Split the dataset into features, X, and target label feature, y\n",
    "\n",
    "X = df.drop('Probability of Cancer',axis=1)\n",
    "y = df['Probability of Cancer']\n",
    "\n",
    "# Split the data into training and testing dataset: 80 - 20\n",
    "X_train, X_test, y_train, y_test = train_test_split(X, y, test_size=0.33, random_state=101)\n",
    "print(\"Total: X:\",len(X),\" y:\",len(y))\n",
    "print(\"Training amount: X:\",len(X_train),\" y:\",len(y_train))\n",
    "print(\"Testing amount: X:\",len(X_test),\" y:\",len(y_test))\n"
   ]
  },
  {
   "cell_type": "markdown",
   "id": "322fe640",
   "metadata": {
    "papermill": {
     "duration": 0.014585,
     "end_time": "2024-10-15T20:20:03.247434",
     "exception": false,
     "start_time": "2024-10-15T20:20:03.232849",
     "status": "completed"
    },
    "tags": []
   },
   "source": [
    "Time to predict the probability cancer!\n",
    "\n",
    "This notebook will use 4 regression models + ANN in a later section:\n",
    "- Linear regression\n",
    "- KNN\n",
    "- Decision Tree\n",
    "- SVR (SVM regressor)"
   ]
  },
  {
   "cell_type": "code",
   "execution_count": 17,
   "id": "f0de8162",
   "metadata": {
    "execution": {
     "iopub.execute_input": "2024-10-15T20:20:03.278944Z",
     "iopub.status.busy": "2024-10-15T20:20:03.278463Z",
     "iopub.status.idle": "2024-10-15T20:20:03.491584Z",
     "shell.execute_reply": "2024-10-15T20:20:03.490509Z"
    },
    "papermill": {
     "duration": 0.232172,
     "end_time": "2024-10-15T20:20:03.494377",
     "exception": false,
     "start_time": "2024-10-15T20:20:03.262205",
     "status": "completed"
    },
    "tags": []
   },
   "outputs": [],
   "source": [
    "from sklearn.linear_model import LinearRegression\n",
    "from sklearn.neighbors import KNeighborsRegressor\n",
    "from sklearn.tree import DecisionTreeRegressor\n",
    "from sklearn.svm import LinearSVR"
   ]
  },
  {
   "cell_type": "code",
   "execution_count": 18,
   "id": "071d9f33",
   "metadata": {
    "execution": {
     "iopub.execute_input": "2024-10-15T20:20:03.526224Z",
     "iopub.status.busy": "2024-10-15T20:20:03.525796Z",
     "iopub.status.idle": "2024-10-15T20:20:03.536724Z",
     "shell.execute_reply": "2024-10-15T20:20:03.535472Z"
    },
    "papermill": {
     "duration": 0.029723,
     "end_time": "2024-10-15T20:20:03.539170",
     "exception": false,
     "start_time": "2024-10-15T20:20:03.509447",
     "status": "completed"
    },
    "tags": []
   },
   "outputs": [],
   "source": [
    "# Write a function to test prediction results\n",
    "# MAE, MSE, RMSE and R2 scores are used for evaluation, up to 3 d.p.\n",
    "from sklearn.metrics import mean_absolute_error,mean_squared_error,r2_score\n",
    "def evaluate_model(y_test,y_preds,name): \n",
    "    mae = round(mean_absolute_error(y_test, y_preds),3)\n",
    "    mse = round(mean_squared_error(y_test, y_preds),3)\n",
    "    rmse = round(np.sqrt(mse),3)\n",
    "    r2 = round(r2_score(y_test,y_preds),3)\n",
    "    print(name)\n",
    "    print(\"Mean Absolute Error (MAE)\\t:\", mae)\n",
    "    print(\"Mean Squared Error (MSE)\\t:\", mse )\n",
    "    print('Root Mean Squared Error (RMSE)\\t:', rmse)\n",
    "    print('R-squred (r2) score\\t\\t:', r2)\n",
    "    return [mae,mse,rmse,r2,name]\n",
    "    \n",
    "def compare_results(y_test,y_preds,model_name,axes,color):\n",
    "    sns.scatterplot(x=y_test,y=y_preds,ax=axes,color=color)\n",
    "    \n",
    "    # Add a diagonal line to represent perfect prediction\n",
    "    axes.plot([min(y_test), max(y_test)], [min(y_test), max(y_test)], color='red', linestyle='--')\n",
    "\n",
    "    axes.set_title(model_name, fontsize=16)\n",
    "    axes.set_xlabel('True labels')\n",
    "    axes.set_ylabel('Predicted Labels')\n"
   ]
  },
  {
   "cell_type": "code",
   "execution_count": 19,
   "id": "cf2ae664",
   "metadata": {
    "execution": {
     "iopub.execute_input": "2024-10-15T20:20:03.570502Z",
     "iopub.status.busy": "2024-10-15T20:20:03.570103Z",
     "iopub.status.idle": "2024-10-15T20:20:03.606805Z",
     "shell.execute_reply": "2024-10-15T20:20:03.605625Z"
    },
    "papermill": {
     "duration": 0.055391,
     "end_time": "2024-10-15T20:20:03.609435",
     "exception": false,
     "start_time": "2024-10-15T20:20:03.554044",
     "status": "completed"
    },
    "tags": []
   },
   "outputs": [
    {
     "name": "stdout",
     "output_type": "stream",
     "text": [
      "Linear Regression\n",
      "Mean Absolute Error (MAE)\t: 0.045\n",
      "Mean Squared Error (MSE)\t: 0.004\n",
      "Root Mean Squared Error (RMSE)\t: 0.063\n",
      "R-squred (r2) score\t\t: 0.964\n"
     ]
    }
   ],
   "source": [
    "# Make linear regression model, fit it to train data \n",
    "lr = LinearRegression().fit(X_train,y_train)\n",
    "lr.score(X_train,y_train) #0.974 r2_score on unseen train data\n",
    "\n",
    "# predict using test data\n",
    "lr_preds = lr.predict(X_test)\n",
    "\n",
    "#evaluate the predicted values with true values\n",
    "lr_eval_results = evaluate_model(y_test,lr_preds,\"Linear Regression\")"
   ]
  },
  {
   "cell_type": "code",
   "execution_count": 20,
   "id": "97285431",
   "metadata": {
    "execution": {
     "iopub.execute_input": "2024-10-15T20:20:03.641480Z",
     "iopub.status.busy": "2024-10-15T20:20:03.641037Z",
     "iopub.status.idle": "2024-10-15T20:20:03.655326Z",
     "shell.execute_reply": "2024-10-15T20:20:03.653993Z"
    },
    "papermill": {
     "duration": 0.033067,
     "end_time": "2024-10-15T20:20:03.657627",
     "exception": false,
     "start_time": "2024-10-15T20:20:03.624560",
     "status": "completed"
    },
    "tags": []
   },
   "outputs": [
    {
     "name": "stdout",
     "output_type": "stream",
     "text": [
      "KNN Regressor\n",
      "Mean Absolute Error (MAE)\t: 0.045\n",
      "Mean Squared Error (MSE)\t: 0.004\n",
      "Root Mean Squared Error (RMSE)\t: 0.063\n",
      "R-squred (r2) score\t\t: 0.961\n"
     ]
    }
   ],
   "source": [
    "knn = KNeighborsRegressor(n_neighbors = 5).fit(X_train,y_train) # 5 neighbors cuz 5 features\n",
    "\n",
    "# predict using test data\n",
    "knn_preds = knn.predict(X_test)\n",
    "\n",
    "# evaluate truth vs predicted values\n",
    "knn_eval_results = evaluate_model(y_test,knn_preds, \"KNN Regressor\")"
   ]
  },
  {
   "cell_type": "code",
   "execution_count": 21,
   "id": "d175e4ea",
   "metadata": {
    "execution": {
     "iopub.execute_input": "2024-10-15T20:20:03.694783Z",
     "iopub.status.busy": "2024-10-15T20:20:03.693745Z",
     "iopub.status.idle": "2024-10-15T20:20:03.711038Z",
     "shell.execute_reply": "2024-10-15T20:20:03.709615Z"
    },
    "papermill": {
     "duration": 0.041533,
     "end_time": "2024-10-15T20:20:03.714262",
     "exception": false,
     "start_time": "2024-10-15T20:20:03.672729",
     "status": "completed"
    },
    "tags": []
   },
   "outputs": [
    {
     "name": "stdout",
     "output_type": "stream",
     "text": [
      "Decision Tree Regressor\n",
      "Mean Absolute Error (MAE)\t: 0.046\n",
      "Mean Squared Error (MSE)\t: 0.004\n",
      "Root Mean Squared Error (RMSE)\t: 0.063\n",
      "R-squred (r2) score\t\t: 0.961\n"
     ]
    }
   ],
   "source": [
    "# Decision Tree\n",
    "tree = DecisionTreeRegressor().fit(X_train,y_train)\n",
    "\n",
    "# predict\n",
    "dt_preds = tree.predict(X_test)\n",
    "\n",
    "\n",
    "# evaluate\n",
    "dt_eval_results = evaluate_model(y_test,dt_preds,\"Decision Tree Regressor\")"
   ]
  },
  {
   "cell_type": "code",
   "execution_count": 22,
   "id": "8a3154bb",
   "metadata": {
    "execution": {
     "iopub.execute_input": "2024-10-15T20:20:03.753087Z",
     "iopub.status.busy": "2024-10-15T20:20:03.752606Z",
     "iopub.status.idle": "2024-10-15T20:20:03.769789Z",
     "shell.execute_reply": "2024-10-15T20:20:03.768630Z"
    },
    "papermill": {
     "duration": 0.038927,
     "end_time": "2024-10-15T20:20:03.772882",
     "exception": false,
     "start_time": "2024-10-15T20:20:03.733955",
     "status": "completed"
    },
    "tags": []
   },
   "outputs": [
    {
     "name": "stdout",
     "output_type": "stream",
     "text": [
      "SVM Regressor\n",
      "Mean Absolute Error (MAE)\t: 0.048\n",
      "Mean Squared Error (MSE)\t: 0.005\n",
      "Root Mean Squared Error (RMSE)\t: 0.071\n",
      "R-squred (r2) score\t\t: 0.953\n"
     ]
    },
    {
     "name": "stderr",
     "output_type": "stream",
     "text": [
      "/opt/conda/lib/python3.10/site-packages/sklearn/svm/_base.py:1244: ConvergenceWarning: Liblinear failed to converge, increase the number of iterations.\n",
      "  warnings.warn(\n"
     ]
    }
   ],
   "source": [
    "# SVM Regressor with default tolerance treshhold\n",
    "svm = LinearSVR(tol=0.0001).fit(X_train,y_train) \n",
    "\n",
    "# predict\n",
    "svm_preds = svm.predict(X_test)\n",
    "\n",
    "# evaluate\n",
    "svm_eval_results = evaluate_model(y_test,svm_preds,\"SVM Regressor\")"
   ]
  },
  {
   "cell_type": "markdown",
   "id": "5c888886",
   "metadata": {
    "execution": {
     "iopub.execute_input": "2024-10-15T19:58:46.960237Z",
     "iopub.status.busy": "2024-10-15T19:58:46.959768Z",
     "iopub.status.idle": "2024-10-15T19:58:46.965908Z",
     "shell.execute_reply": "2024-10-15T19:58:46.964609Z",
     "shell.execute_reply.started": "2024-10-15T19:58:46.960180Z"
    },
    "papermill": {
     "duration": 0.015022,
     "end_time": "2024-10-15T20:20:03.803460",
     "exception": false,
     "start_time": "2024-10-15T20:20:03.788438",
     "status": "completed"
    },
    "tags": []
   },
   "source": [
    "# Evaluation for ML Models\n",
    "\n",
    "All of the models are performing very well with **Linear Regression** having the best **r2-score** of **0.964**, 0.003 points higher than decision tree and knn.\n",
    "\n",
    "Other metrics like MAE, MSE and RMSE are all practically the same for the models with 0.001 differences. Can look at the figure below to see truth values vs predicted values for each model\n"
   ]
  },
  {
   "cell_type": "code",
   "execution_count": 23,
   "id": "f4a12838",
   "metadata": {
    "execution": {
     "iopub.execute_input": "2024-10-15T20:20:03.836657Z",
     "iopub.status.busy": "2024-10-15T20:20:03.835688Z",
     "iopub.status.idle": "2024-10-15T20:20:05.001273Z",
     "shell.execute_reply": "2024-10-15T20:20:05.000036Z"
    },
    "papermill": {
     "duration": 1.184939,
     "end_time": "2024-10-15T20:20:05.003875",
     "exception": false,
     "start_time": "2024-10-15T20:20:03.818936",
     "status": "completed"
    },
    "tags": []
   },
   "outputs": [
    {
     "data": {
      "image/png": "[encoded data removed]",
      "text/plain": [
       "<Figure size 1600x300 with 4 Axes>"
      ]
     },
     "metadata": {},
     "output_type": "display_data"
    }
   ],
   "source": [
    "preds = [lr_preds,knn_preds,dt_preds,svm_preds]\n",
    "models = [\"Linear Regression\",\"KNN Regressor\",\"Decision Tree Regressor\",\"SVM Regressor\"]\n",
    "\n",
    "figs,axes= plt.subplots(1,4,figsize=(16,3)) # make a 1 by 4 subplot\n",
    "colors = sns.color_palette('pastel')[0:4] # 4 colors from sns colors\n",
    "\n",
    "for index,i in enumerate(preds):\n",
    "    compare_results(y_test,i,models[index],axes=axes[index],color=colors[index]) #call the figure function\n",
    "    "
   ]
  },
  {
   "cell_type": "markdown",
   "id": "58d21cf5",
   "metadata": {
    "papermill": {
     "duration": 0.015847,
     "end_time": "2024-10-15T20:20:05.036038",
     "exception": false,
     "start_time": "2024-10-15T20:20:05.020191",
     "status": "completed"
    },
    "tags": []
   },
   "source": [
    "# Neural Network with Pytorch"
   ]
  },
  {
   "cell_type": "code",
   "execution_count": 24,
   "id": "a979c184",
   "metadata": {
    "execution": {
     "iopub.execute_input": "2024-10-15T20:20:05.070436Z",
     "iopub.status.busy": "2024-10-15T20:20:05.069954Z",
     "iopub.status.idle": "2024-10-15T20:20:05.075173Z",
     "shell.execute_reply": "2024-10-15T20:20:05.074065Z"
    },
    "papermill": {
     "duration": 0.025416,
     "end_time": "2024-10-15T20:20:05.077680",
     "exception": false,
     "start_time": "2024-10-15T20:20:05.052264",
     "status": "completed"
    },
    "tags": []
   },
   "outputs": [],
   "source": [
    "# Check: https://machinelearningmastery.com/building-a-regression-model-in-pytorch/"
   ]
  }
 ],
 "metadata": {
  "kaggle": {
   "accelerator": "none",
   "dataSources": [
    {
     "datasetId": 5796917,
     "sourceId": 9521070,
     "sourceType": "datasetVersion"
    }
   ],
   "dockerImageVersionId": 30786,
   "isGpuEnabled": false,
   "isInternetEnabled": true,
   "language": "python",
   "sourceType": "notebook"
  },
  "kernelspec": {
   "display_name": "Python 3",
   "language": "python",
   "name": "python3"
  },
  "language_info": {
   "codemirror_mode": {
    "name": "ipython",
    "version": 3
   },
   "file_extension": ".py",
   "mimetype": "text/x-python",
   "name": "python",
   "nbconvert_exporter": "python",
   "pygments_lexer": "ipython3",
   "version": "3.10.14"
  },
  "papermill": {
   "default_parameters": {},
   "duration": 11.637332,
   "end_time": "2024-10-15T20:20:05.817366",
   "environment_variables": {},
   "exception": null,
   "input_path": "__notebook__.ipynb",
   "output_path": "__notebook__.ipynb",
   "parameters": {},
   "start_time": "2024-10-15T20:19:54.180034",
   "version": "2.6.0"
  }
 },
 "nbformat": 4,
 "nbformat_minor": 5
}
